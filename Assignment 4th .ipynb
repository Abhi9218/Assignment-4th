{
 "cells": [
  {
   "cell_type": "markdown",
   "id": "7680f6b1-6643-4918-b543-52510d84ebbe",
   "metadata": {},
   "source": [
    "# Assignment 4th"
   ]
  },
  {
   "cell_type": "markdown",
   "id": "a2a3ffc8-f2c7-4dc5-b72e-bd277ba18bc2",
   "metadata": {},
   "source": [
    "### Q1. Create a python program to sort the given list of tuples based on integer value using a lambda function\n",
    "\n",
    "[('Sachin Tendulkar', 34357), ('Ricky Ponting', 27483), ('Jack Kallis', 25534), ('Virat Kohli', 24936)]"
   ]
  },
  {
   "cell_type": "code",
   "execution_count": 7,
   "id": "4cccd0bd-8408-4925-8b4c-dd98e6cf792b",
   "metadata": {},
   "outputs": [
    {
     "name": "stdout",
     "output_type": "stream",
     "text": [
      "[('Virat Kohli', 24936), ('Jack Kallis', 25534), ('Ricky Ponting', 27483), ('Sachin Tendulkar', 34357)]\n"
     ]
    }
   ],
   "source": [
    "l=[('Sachin Tendulkar', 34357), ('Ricky Ponting', 27483), ('Jack Kallis', 25534), ('Virat Kohli', 24936)]\n",
    "sorted_data=sorted(l,key=lambda x:x[1])\n",
    "print(sorted_data)\n",
    "                   "
   ]
  },
  {
   "cell_type": "markdown",
   "id": "659adb1d-4e87-46e0-9376-c11c2b4559dd",
   "metadata": {},
   "source": [
    "### Q2. Write a Python Program to find the squares of all the numbers in the given list of integers using lambda and map functions. [1, 2, 3, 4, 5, 6, 7, 8, 9, 10]"
   ]
  },
  {
   "cell_type": "markdown",
   "id": "2487564c-53ce-418d-ac5d-a1e69945f9d8",
   "metadata": {},
   "source": [
    "### Ans"
   ]
  },
  {
   "cell_type": "code",
   "execution_count": 5,
   "id": "c5a78294-5a51-4da1-8e74-a159ffdbbe2f",
   "metadata": {},
   "outputs": [
    {
     "data": {
      "text/plain": [
       "[1, 4, 9, 16, 25, 36, 49, 64, 81, 100]"
      ]
     },
     "execution_count": 5,
     "metadata": {},
     "output_type": "execute_result"
    }
   ],
   "source": [
    "l1=[1, 2, 3, 4, 5, 6, 7, 8, 9, 10]\n",
    "def square(i):\n",
    "    a=i**2\n",
    "    return a \n",
    "list(map (lambda i:i**2,l1) )   ### using lambda function"
   ]
  },
  {
   "cell_type": "code",
   "execution_count": 9,
   "id": "25a033a2-61a6-4c39-951d-eaff0714ae4d",
   "metadata": {},
   "outputs": [
    {
     "data": {
      "text/plain": [
       "[1, 4, 9, 16, 25, 36, 49, 64, 81, 100]"
      ]
     },
     "execution_count": 9,
     "metadata": {},
     "output_type": "execute_result"
    }
   ],
   "source": [
    "l2=[1, 2, 3, 4, 5, 6, 7, 8, 9, 10]\n",
    "def sq(i):\n",
    "    a=i**2\n",
    "    return a      ### without using lambda function\n",
    "list(map(sq,l2))"
   ]
  },
  {
   "cell_type": "markdown",
   "id": "0b969093-5c77-420b-89d7-5d86e4f7f3ee",
   "metadata": {},
   "source": [
    "### Q3. Write a python program to convert the given list of integers into a tuple of strings. Use map and lambda functions"
   ]
  },
  {
   "cell_type": "code",
   "execution_count": 2,
   "id": "1133b58a-9d82-4ea1-84c5-4170eaf3dcec",
   "metadata": {},
   "outputs": [
    {
     "name": "stdout",
     "output_type": "stream",
     "text": [
      "('1', '2', '3', '4', '5', '6', 'Prajapati', '[1, 2, 3, (2, 3, 4)]')\n"
     ]
    }
   ],
   "source": [
    "l2=[1,2,3,4,5,6,\"Prajapati\",[1,2,3,(2,3,4)]]\n",
    "string=tuple(map(lambda i:str(i),l2))\n",
    "print(string)"
   ]
  },
  {
   "cell_type": "markdown",
   "id": "23e1ea65-2ecf-4627-81fa-f398d61d9d83",
   "metadata": {},
   "source": [
    "### Q4.  Write a python program using reduce function to compute the product of a list containing numbers from 1 to 25."
   ]
  },
  {
   "cell_type": "markdown",
   "id": "7638383d-4b47-4b03-92fa-128abc820243",
   "metadata": {},
   "source": [
    "#### Ans"
   ]
  },
  {
   "cell_type": "code",
   "execution_count": 12,
   "id": "71ad58ea-d165-46c2-81ab-982e2087774c",
   "metadata": {},
   "outputs": [
    {
     "data": {
      "text/plain": [
       "15511210043330985984000000"
      ]
     },
     "execution_count": 12,
     "metadata": {},
     "output_type": "execute_result"
    }
   ],
   "source": [
    "string_list= list(range(1,26))\n",
    "from functools import reduce\n",
    "reduce(lambda x,y:x*y,string_list)"
   ]
  },
  {
   "cell_type": "markdown",
   "id": "a1369971-20a4-4ba6-a945-8f1a624909e0",
   "metadata": {},
   "source": [
    "### Q5. Write a python program to filter the numbers in a given list that are divisible by 2 and 3 using the filter function."
   ]
  },
  {
   "cell_type": "markdown",
   "id": "0418e560-d092-4264-baea-8c0ebc143a4b",
   "metadata": {},
   "source": [
    "#### Ans"
   ]
  },
  {
   "cell_type": "code",
   "execution_count": 23,
   "id": "43347d77-7745-46f2-bc33-83b4a4bfd50e",
   "metadata": {},
   "outputs": [
    {
     "data": {
      "text/plain": [
       "[6, 60, 90, 120]"
      ]
     },
     "execution_count": 23,
     "metadata": {},
     "output_type": "execute_result"
    }
   ],
   "source": [
    "l2=[2, 3, 6, 9, 27, 60, 90, 120, 55, 46]\n",
    "list(filter(lambda x: x%2==0 and x%3==0,l2))"
   ]
  },
  {
   "cell_type": "markdown",
   "id": "3b97c659-5e98-4d13-a280-94f9721d353b",
   "metadata": {},
   "source": [
    "### Q6. Write a python program to find palindromes in the given list of strings using lambda and filter function. ['python', 'php', 'aba', 'radar', 'level']"
   ]
  },
  {
   "cell_type": "markdown",
   "id": "80a22dbe-7703-4076-9535-64d9c3660c5a",
   "metadata": {},
   "source": [
    "### Ans"
   ]
  },
  {
   "cell_type": "code",
   "execution_count": 26,
   "id": "bb38973e-ff98-4c0f-b952-67622dbe2861",
   "metadata": {},
   "outputs": [
    {
     "name": "stdout",
     "output_type": "stream",
     "text": [
      "['php', 'aba', 'radar', 'level']\n"
     ]
    }
   ],
   "source": [
    "string= ['python', 'php', 'aba', 'radar', 'level']\n",
    "palindromes=list(filter(lambda x:x==x[::-1],string))\n",
    "print(palindromes)"
   ]
  },
  {
   "cell_type": "code",
   "execution_count": null,
   "id": "af9ff7da-fc06-496c-9053-5d2fbb0984a3",
   "metadata": {},
   "outputs": [],
   "source": []
  }
 ],
 "metadata": {
  "kernelspec": {
   "display_name": "Python 3 (ipykernel)",
   "language": "python",
   "name": "python3"
  },
  "language_info": {
   "codemirror_mode": {
    "name": "ipython",
    "version": 3
   },
   "file_extension": ".py",
   "mimetype": "text/x-python",
   "name": "python",
   "nbconvert_exporter": "python",
   "pygments_lexer": "ipython3",
   "version": "3.10.8"
  }
 },
 "nbformat": 4,
 "nbformat_minor": 5
}
